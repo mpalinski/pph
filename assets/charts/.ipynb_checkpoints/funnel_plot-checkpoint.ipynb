{
 "cells": [
  {
   "cell_type": "code",
   "execution_count": 10,
   "metadata": {},
   "outputs": [],
   "source": [
    "import plotly.plotly as py\n",
    "import plotly\n",
    "from plotly import graph_objs as go\n",
    "from __future__ import division"
   ]
  },
  {
   "cell_type": "code",
   "execution_count": 49,
   "metadata": {},
   "outputs": [],
   "source": [
    "# chart stages data\n",
    "values = [1310421, 284417, 31814]\n",
    "phases = ['ZF Polpharma S.A.', 'Polfa Warszawa', 'Medana Pharma S.A.']\n",
    "\n",
    "# color of each funnel section\n",
    "colors = ['#024594', '#94bde5', '#15acb9', 'rgb(182,231,235)']"
   ]
  },
  {
   "cell_type": "code",
   "execution_count": 50,
   "metadata": {},
   "outputs": [],
   "source": [
    "n_phase = len(phases)\n",
    "plot_width = 400\n",
    "\n",
    "# height of a section and difference between sections \n",
    "section_h = 100\n",
    "section_d = 10\n",
    "\n",
    "# multiplication factor to calculate the width of other sections\n",
    "unit_width = plot_width / max(values)\n",
    "\n",
    "# width of each funnel section relative to the plot width\n",
    "phase_w = [int(value * unit_width) for value in values]\n",
    "\n",
    "# plot height based on the number of sections and the gap in between them\n",
    "height = section_h * n_phase + section_d * (n_phase - 1)"
   ]
  },
  {
   "cell_type": "code",
   "execution_count": 51,
   "metadata": {},
   "outputs": [],
   "source": [
    "# list containing all the plot shapes\n",
    "shapes = []\n",
    "\n",
    "# list containing the Y-axis location for each section's name and value text\n",
    "label_y = []\n",
    "\n",
    "for i in range(n_phase):\n",
    "        if (i == n_phase-1):\n",
    "                points = [phase_w[i] / 2, height, phase_w[i] / 2, height - section_h]\n",
    "        else:\n",
    "                points = [phase_w[i] / 2, height, phase_w[i+1] / 2, height - section_h]\n",
    "\n",
    "        path = 'M {0} {1} L {2} {3} L -{2} {3} L -{0} {1} Z'.format(*points)\n",
    "\n",
    "        shape = {\n",
    "                'type': 'path',\n",
    "                'path': path,\n",
    "                'fillcolor': colors[i],\n",
    "                'line': {\n",
    "                    'width': 1,\n",
    "                    'color': colors[i]\n",
    "                }\n",
    "        }\n",
    "        shapes.append(shape)\n",
    "        \n",
    "        # Y-axis location for this section's details (text)\n",
    "        label_y.append(height - (section_h / 2))\n",
    "\n",
    "        height = height - (section_h + section_d)"
   ]
  },
  {
   "cell_type": "code",
   "execution_count": 56,
   "metadata": {},
   "outputs": [
    {
     "data": {
      "text/plain": [
       "'file:///Users/Michal_Palinski/Desktop/pph-gh-pages/assets/charts/temp-plot.html'"
      ]
     },
     "execution_count": 56,
     "metadata": {},
     "output_type": "execute_result"
    }
   ],
   "source": [
    "# For phase names\n",
    "label_trace = go.Scatter(\n",
    "    x=[-350]*n_phase,\n",
    "    y=label_y,\n",
    "    mode='text',\n",
    "    text=phases,\n",
    "    textfont=dict(\n",
    "        color='#024594',\n",
    "        size=12\n",
    "    )\n",
    ")\n",
    " \n",
    "# For phase values\n",
    "value_trace = go.Scatter(\n",
    "    x=[350]*n_phase,\n",
    "    y=label_y,\n",
    "    mode='text',\n",
    "    text=values,\n",
    "    textfont=dict(\n",
    "        color='#024594',\n",
    "        size=15\n",
    "    )\n",
    ")\n",
    "\n",
    "data = [label_trace, value_trace]\n",
    " \n",
    "layout = go.Layout(\n",
    "    title=\"<b>Inwestycje długoterminowe GK Polpharma (2016 r., tys. zł)</b>\",\n",
    "    titlefont=dict(\n",
    "        size=15,\n",
    "        color='#024594'\n",
    "    ),\n",
    "    shapes=shapes,\n",
    "    height=700,\n",
    "    width=1100,\n",
    "    showlegend=False,\n",
    "    paper_bgcolor='#f6f5fa',\n",
    "    plot_bgcolor='#f6f5fa',\n",
    "    xaxis=dict(\n",
    "        showticklabels=False,\n",
    "        zeroline=False,\n",
    "                showgrid=False\n",
    "    ),\n",
    "    yaxis=dict(\n",
    "        showticklabels=False,\n",
    "        zeroline=False,\n",
    "                showgrid=False\n",
    "    )\n",
    ")\n",
    " \n",
    "fig = go.Figure(data=data, layout=layout)\n",
    "plotly.offline.plot(fig)"
   ]
  },
  {
   "cell_type": "code",
   "execution_count": null,
   "metadata": {},
   "outputs": [],
   "source": []
  },
  {
   "cell_type": "code",
   "execution_count": null,
   "metadata": {},
   "outputs": [],
   "source": []
  }
 ],
 "metadata": {
  "kernelspec": {
   "display_name": "Python [conda env:myPython]",
   "language": "python",
   "name": "conda-env-myPython-py"
  },
  "language_info": {
   "codemirror_mode": {
    "name": "ipython",
    "version": 3
   },
   "file_extension": ".py",
   "mimetype": "text/x-python",
   "name": "python",
   "nbconvert_exporter": "python",
   "pygments_lexer": "ipython3",
   "version": "3.5.2"
  }
 },
 "nbformat": 4,
 "nbformat_minor": 2
}
